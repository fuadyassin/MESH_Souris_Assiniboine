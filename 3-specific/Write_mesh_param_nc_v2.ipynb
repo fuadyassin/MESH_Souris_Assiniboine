{
 "cells": [
  {
   "cell_type": "code",
   "execution_count": 21,
   "id": "7d2846e0-7f75-4c1e-baaa-2ae78d6b6d42",
   "metadata": {},
   "outputs": [],
   "source": [
    "from MESHpyPreProcessing.gsde_soil import GSDESoil\n",
    "from MESHpyPreProcessing.NetCDFWriter import NetCDFWriter "
   ]
  },
  {
   "cell_type": "code",
   "execution_count": 22,
   "id": "8e7c9b0c-0d3c-4f58-9061-73b5d11c47fd",
   "metadata": {},
   "outputs": [],
   "source": [
    "# Define paths and directories\n",
    "directory = '/home/fuaday/scratch/sras-agg-model/gistool-outputs'\n",
    "#/scratch/fuaday/sras-agg-model/gistool-outputs\n",
    "input_basin = '/home/fuaday/scratch/sras-agg-model/geofabric-outputs/sras_subbasins_MAF_Agg2.shp'\n",
    "output_river_path = \"/home/fuaday/github-repos/Souris_Assiniboine_MAF/1-geofabric/SrsAboine-geofabric/sras_subbasins_MAF_Agg2.shp\"\n",
    "output_shapefile = 'merged_soil_data_shapefile4.shp'"
   ]
  },
  {
   "cell_type": "code",
   "execution_count": 23,
   "id": "087b9ad2-840e-4780-9a36-cf06e6e2aa6e",
   "metadata": {},
   "outputs": [],
   "source": [
    "# Example usage:\n",
    "# Initialize the class\n",
    "gsde = GSDESoil(directory='/home/fuaday/scratch/sras-agg-model/gistool-outputs', \n",
    "                input_basin='/home/fuaday/scratch/sras-agg-model/geofabric-outputs/sras_subbasins_MAF_Agg2.shp',\n",
    "                output_shapefile='merged_soil_data_shapefile4.shp')\n",
    "\n",
    "# Define the file names\n",
    "file_names = ['sras_model_stats_CLAY1.csv', 'sras_model_stats_CLAY2.csv', \n",
    "              'sras_model_stats_SAND1.csv', 'sras_model_stats_SAND2.csv',\n",
    "              'sras_model_stats_OC1.csv', 'sras_model_stats_OC2.csv',\n",
    "              'sras_model_stats_BDRICM_M_250m_ll.csv', 'sras_model_stats_BDTICM_M_250m_ll.csv',\n",
    "             'sras_model_slope_degree.csv', 'sras_model_riv_0p1_2.csv']\n",
    "\n",
    "# Define the search and replace lists for each file (excluding OC1 and OC2)\n",
    "search_replace_dict = {\n",
    "    'sras_model_stats_CLAY1.csv': ['.CLAY_depth=4.5', '.CLAY_depth=9.1000004', '.CLAY_depth=16.6', '.CLAY_depth=28.9'], \n",
    "    'sras_model_stats_CLAY2.csv': ['.CLAY_depth=49.299999', '.CLAY_depth=82.900002', '.CLAY_depth=138.3', '.CLAY_depth=229.60001'],\n",
    "    'sras_model_stats_SAND1.csv': ['.SAND_depth=4.5', '.SAND_depth=9.1000004', '.SAND_depth=16.6', '.SAND_depth=28.9'],\n",
    "    'sras_model_stats_SAND2.csv': ['.SAND_depth=49.299999', '.SAND_depth=82.900002', '.SAND_depth=138.3', '.SAND_depth=229.60001'],\n",
    "    'sras_model_stats_OC1.csv': ['.OC_depth=4.5', '.OC_depth=9.1000004', '.OC_depth=16.6', '.OC_depth=28.9'],\n",
    "    'sras_model_stats_OC2.csv': ['.OC_depth=49.299999', '.OC_depth=82.900002', '.OC_depth=138.3', '.OC_depth=229.60001']\n",
    "}\n",
    "\n",
    "# Corresponding replace lists (excluding OC1 and OC2)\n",
    "replace_lists = {\n",
    "    'sras_model_stats_CLAY1.csv': ['CLAY1', 'CLAY2', 'CLAY3', 'CLAY4'],\n",
    "    'sras_model_stats_CLAY2.csv': ['CLAY5', 'CLAY6', 'CLAY7', 'CLAY8'],\n",
    "    'sras_model_stats_SAND1.csv': ['SAND1', 'SAND2', 'SAND3', 'SAND4'],\n",
    "    'sras_model_stats_SAND2.csv': ['SAND5', 'SAND6', 'SAND7', 'SAND8'],\n",
    "    'sras_model_stats_OC1.csv': ['OC1', 'OC2', 'OC3', 'OC4'],\n",
    "    'sras_model_stats_OC2.csv': ['OC5', 'OC6', 'OC7', 'OC8']\n",
    "}\n",
    "\n",
    "# Combine search and replace dictionaries\n",
    "search_replace_dict_combined = {\n",
    "    key: (search_replace_dict[key], replace_lists[key]) for key in search_replace_dict.keys()\n",
    "}\n",
    "\n",
    "# Optionally, define suffixes for each file\n",
    "suffix_dict = {\n",
    "    'sras_model_stats_CLAY1.csv': '',\n",
    "    'sras_model_stats_CLAY2.csv': '',\n",
    "    'sras_model_stats_SAND1.csv': '',\n",
    "    'sras_model_stats_SAND2.csv': '',\n",
    "    'sras_model_stats_OC1.csv': '',\n",
    "    'sras_model_stats_OC2.csv': '',\n",
    "    'sras_model_stats_BDRICM_M_250m_ll.csv': 'BDRICM',\n",
    "    'sras_model_stats_BDTICM_M_250m_ll.csv': 'BDTICM'\n",
    "}\n",
    "\n",
    "# Define intervals, This is default gsde depth interval for 8 layers \n",
    "gsde_intervals = [(0, 0.045), (0.045, 0.091), (0.091, 0.166), (0.166, 0.289), (0.289, 0.493), (0.493, 0.829), (0.829, 1.383), (1.383, 2.296)]\n",
    "# This is input and defines the MESH soil depth discritizaiton, in the following case 4 layers soil\n",
    "mesh_intervals = [(0, 0.1), (0.1, 0.35), (0.35, 1.2), (1.2, 4.1)]\n",
    "column_names = {prop: [f'mean{prop}{depth}' for depth in ['1', '2', '3', '4', '5', '6', '7', '8']] for prop in ['CLAY', 'SAND', 'OC']}\n",
    "\n",
    "# Load the data with specified renaming and suffixing\n",
    "gsde.load_data(file_names, search_replace_dict=search_replace_dict_combined, suffix_dict=suffix_dict)"
   ]
  },
  {
   "cell_type": "code",
   "execution_count": 24,
   "id": "c859c49d-55af-4d7a-aa66-b6068287c744",
   "metadata": {},
   "outputs": [],
   "source": [
    "gsde.fill_and_clean_data()"
   ]
  },
  {
   "cell_type": "code",
   "execution_count": 25,
   "id": "6c715ed9-36e3-46a3-844b-3cb16bd786b4",
   "metadata": {},
   "outputs": [],
   "source": [
    "gsde.calculate_weights(gsde_intervals, mesh_intervals)\n",
    "gsde.calculate_mesh_values(column_names)"
   ]
  },
  {
   "cell_type": "code",
   "execution_count": 26,
   "id": "cac5e511-dee1-452f-9928-acba2e056618",
   "metadata": {},
   "outputs": [
    {
     "name": "stdout",
     "output_type": "stream",
     "text": [
      "['COMID', 'minCLAY1', 'minCLAY2', 'minCLAY3', 'minCLAY4', 'maxCLAY1', 'maxCLAY2', 'maxCLAY3', 'maxCLAY4', 'meanCLAY1', 'meanCLAY2', 'meanCLAY3', 'meanCLAY4', 'medianCLAY1', 'medianCLAY2', 'medianCLAY3', 'medianCLAY4', 'minCLAY5', 'minCLAY6', 'minCLAY7', 'minCLAY8', 'maxCLAY5', 'maxCLAY6', 'maxCLAY7', 'maxCLAY8', 'meanCLAY5', 'meanCLAY6', 'meanCLAY7', 'meanCLAY8', 'medianCLAY5', 'medianCLAY6', 'medianCLAY7', 'medianCLAY8', 'minSAND1', 'minSAND2', 'minSAND3', 'minSAND4', 'maxSAND1', 'maxSAND2', 'maxSAND3', 'maxSAND4', 'meanSAND1', 'meanSAND2', 'meanSAND3', 'meanSAND4', 'medianSAND1', 'medianSAND2', 'medianSAND3', 'medianSAND4', 'minSAND5', 'minSAND6', 'minSAND7', 'minSAND8', 'maxSAND5', 'maxSAND6', 'maxSAND7', 'maxSAND8', 'meanSAND5', 'meanSAND6', 'meanSAND7', 'meanSAND8', 'medianSAND5', 'medianSAND6', 'medianSAND7', 'medianSAND8', 'minOC1', 'minOC2', 'minOC3', 'minOC4', 'maxOC1', 'maxOC2', 'maxOC3', 'maxOC4', 'meanOC1', 'meanOC2', 'meanOC3', 'meanOC4', 'medianOC1', 'medianOC2', 'medianOC3', 'medianOC4', 'minOC5', 'minOC6', 'minOC7', 'minOC8', 'maxOC5', 'maxOC6', 'maxOC7', 'maxOC8', 'meanOC5', 'meanOC6', 'meanOC7', 'meanOC8', 'medianOC5', 'medianOC6', 'medianOC7', 'medianOC8', 'minBDRICM', 'maxBDRICM', 'meanBDRICM', 'medianBDRICM', 'minBDTICM', 'maxBDTICM', 'meanBDTICM', 'medianBDTICM', 'unitarea_x', 'xslp', 'unitarea_y', 'dd', 'meshCLAY1', 'meshCLAY2', 'meshCLAY3', 'meshCLAY4', 'meshSAND1', 'meshSAND2', 'meshSAND3', 'meshSAND4', 'meshOC1', 'meshOC2', 'meshOC3', 'meshOC4']\n"
     ]
    }
   ],
   "source": [
    "print(list(gsde.gsde_df.columns))"
   ]
  },
  {
   "cell_type": "code",
   "execution_count": 27,
   "id": "2750dc90-6f5a-4181-80e1-e92a85394abc",
   "metadata": {},
   "outputs": [
    {
     "name": "stderr",
     "output_type": "stream",
     "text": [
      "/home/fuaday/.local/lib/python3.10/site-packages/MESHpyPreProcessing/gsde_soil.py:127: UserWarning: Column names longer than 10 characters will be truncated when saved to ESRI Shapefile.\n",
      "  self.merged_gdf.to_file(self.output_shapefile)\n"
     ]
    }
   ],
   "source": [
    "gsde.merge_and_save_shapefile()"
   ]
  },
  {
   "cell_type": "code",
   "execution_count": 28,
   "id": "bb46a42e-521c-40d2-806f-5c4b09c17e6d",
   "metadata": {},
   "outputs": [],
   "source": [
    "from MESHpyPreProcessing.NetCDFWriter import NetCDFWriter\n",
    "\n",
    "# Paths for NetCDFWriter\n",
    "nc_filename = 'MESH_parameters3.nc'\n",
    "output_shapefile = 'merged_soil_data_shapefile4.shp'\n",
    "input_ddb = '/scratch/fuaday/sras-agg-model/MESH-sras-agg/MESH_drainage_database.nc'\n",
    "mesh_intervals = [(0, 0.1), (0.1, 0.35), (0.35, 1.2), (1.2, 4.1)]\n",
    "\n",
    "# Initialize NetCDFWriter with the necessary paths\n",
    "nc_writer = NetCDFWriter(\n",
    "    nc_filename=nc_filename,\n",
    "    shapefile_path=output_shapefile,\n",
    "    input_ddb_path=input_ddb\n",
    ")\n",
    "\n",
    "# Read shapefile and set coordinates from the input drainage database\n",
    "nc_writer.read_shapefile()\n",
    "nc_writer.set_coordinates()\n",
    "\n",
    "# Set the number of soil layers (example with 4 layers, as indicated by the column names)\n",
    "nc_writer.set_num_soil_layers(num_layers=len(mesh_intervals))\n",
    "\n",
    "# Define the properties for NetCDF writing, distinguishing between layer-dependent and layer-independent properties\n",
    "properties = {\n",
    "    'layer_dependent': ['CLAY', 'SAND', 'OC'],  # Dependent on number of soil layers and subbasin\n",
    "    'layer_independent': ['ncontr','meanBDRICM','meanBDTICM','xslp','dd']  # Dependent only on subbasin \n",
    "}\n",
    "\n",
    "# Define variable information with names and data types, and unit\n",
    "variable_info = {\n",
    "    'CLAY': ('CLAY', 'f4', 'Percentage'),\n",
    "    'SAND': ('SAND', 'f4', 'Percentage'),\n",
    "    'OC': ('ORGM', 'f4', 'Percentage'),\n",
    "    'ncontr': ('IWF', 'i4', '1'),\n",
    "    'meanBDRICM': ('BDRICM', 'f4', 'Meters'),\n",
    "    'meanBDTICM': ('BDTICM', 'f4', 'Meters'),\n",
    "    'xslp': ('xslp', 'f4', 'degree'),\n",
    "    'dd': ('dd', 'f4', 'm_per_km2')\n",
    "}\n",
    "\n",
    "# Write the data to a NetCDF file\n",
    "nc_writer.write_netcdf(properties=properties, variable_info=variable_info)\n"
   ]
  },
  {
   "cell_type": "code",
   "execution_count": 29,
   "id": "6609f04b-a379-47ee-bef2-9ef7d076c10b",
   "metadata": {},
   "outputs": [
    {
     "name": "stdout",
     "output_type": "stream",
     "text": [
      "['COMID', 'unitarea', 'NextDownID', 'uparea', 'ncontr', 'minCLAY1', 'minCLAY2', 'minCLAY3', 'minCLAY4', 'maxCLAY1', 'maxCLAY2', 'maxCLAY3', 'maxCLAY4', 'meanCLAY1', 'meanCLAY2', 'meanCLAY3', 'meanCLAY4', 'medianCLAY', 'medianCL_1', 'medianCL_2', 'medianCL_3', 'minCLAY5', 'minCLAY6', 'minCLAY7', 'minCLAY8', 'maxCLAY5', 'maxCLAY6', 'maxCLAY7', 'maxCLAY8', 'meanCLAY5', 'meanCLAY6', 'meanCLAY7', 'meanCLAY8', 'medianCL_4', 'medianCL_5', 'medianCL_6', 'medianCL_7', 'minSAND1', 'minSAND2', 'minSAND3', 'minSAND4', 'maxSAND1', 'maxSAND2', 'maxSAND3', 'maxSAND4', 'meanSAND1', 'meanSAND2', 'meanSAND3', 'meanSAND4', 'medianSAND', 'medianSA_1', 'medianSA_2', 'medianSA_3', 'minSAND5', 'minSAND6', 'minSAND7', 'minSAND8', 'maxSAND5', 'maxSAND6', 'maxSAND7', 'maxSAND8', 'meanSAND5', 'meanSAND6', 'meanSAND7', 'meanSAND8', 'medianSA_4', 'medianSA_5', 'medianSA_6', 'medianSA_7', 'minOC1', 'minOC2', 'minOC3', 'minOC4', 'maxOC1', 'maxOC2', 'maxOC3', 'maxOC4', 'meanOC1', 'meanOC2', 'meanOC3', 'meanOC4', 'medianOC1', 'medianOC2', 'medianOC3', 'medianOC4', 'minOC5', 'minOC6', 'minOC7', 'minOC8', 'maxOC5', 'maxOC6', 'maxOC7', 'maxOC8', 'meanOC5', 'meanOC6', 'meanOC7', 'meanOC8', 'medianOC5', 'medianOC6', 'medianOC7', 'medianOC8', 'minBDRICM', 'maxBDRICM', 'meanBDRICM', 'medianBDRI', 'minBDTICM', 'maxBDTICM', 'meanBDTICM', 'medianBDTI', 'unitarea_x', 'xslp', 'unitarea_y', 'dd', 'meshCLAY1', 'meshCLAY2', 'meshCLAY3', 'meshCLAY4', 'meshSAND1', 'meshSAND2', 'meshSAND3', 'meshSAND4', 'meshOC1', 'meshOC2', 'meshOC3', 'meshOC4', 'geometry']\n"
     ]
    }
   ],
   "source": [
    "print(list(nc_writer.merged_gdf.columns))"
   ]
  },
  {
   "cell_type": "code",
   "execution_count": 30,
   "id": "f238d294-1acb-49d2-a0d2-c79fc822e7ce",
   "metadata": {},
   "outputs": [],
   "source": [
    "!cp MESH_parameters3.nc /home/fuaday/scratch/sras-agg-model/MESH-sras-agg"
   ]
  },
  {
   "cell_type": "code",
   "execution_count": null,
   "id": "faa1c48a-37b8-4a4e-8c0e-f53ccc3da8df",
   "metadata": {},
   "outputs": [],
   "source": [
    "# Define paths and directories\n",
    "# directory = '/home/fuaday/scratch/sras-agg-model/gistool-outputs'\n",
    "# #/scratch/fuaday/sras-agg-model/gistool-outputs\n",
    "# input_basin = '/home/fuaday/scratch/sras-agg-model/geofabric-outputs/sras_subbasins_MAF_Agg2.shp'\n",
    "# output_river_path = \"/home/fuaday/github-repos/Souris_Assiniboine_MAF/1-geofabric/SrsAboine-geofabric/sras_subbasins_MAF_Agg2.shp\"\n",
    "# output_shapefile = 'merged_soil_data_shapefile4.shp'\n",
    "\n",
    "# # File names for soil data\n",
    "# file_names = ['sras_model_stats_CLAY1.csv', 'sras_model_stats_CLAY2.csv', 'sras_model_stats_SAND1.csv', 'sras_model_stats_SAND2.csv',\n",
    "#               'sras_model_stats_OC1.csv', 'sras_model_stats_OC2.csv',\n",
    "#              'sras_model_stats_BDRICM_M_250m_ll.csv', 'sras_model_stats_BDTICM_M_250m_ll.csv']\n",
    "\n",
    "# # Define search and replace names for column cleaning otherwise it will be too long on the shapefile column\n",
    "# searchname = ['_depth=4.5', '_depth=9.1000004', '_depth=16.6', '_depth=28.9', '_depth=49.299999', '_depth=82.900002', '_depth=138.3', '_depth=229.60001', '_x', '_y']\n",
    "# replacename = ['1', '2', '3', '4', '5', '6', '7', '8', 'BDRICM', 'BDTICM']\n",
    "\n",
    "# # Properties and column names\n",
    "# #This is to crete automatically the names for 8 layers like {'CLAY': ['meanCLAY1', 'meanCLAY2', ... ,  'meanCLAY8'], 'SAND': ['meanSAND1',  'meanSAND2', ... ,  'meanSAND8'],\n",
    "# #    'BD': ['meanBD1',  'meanBD2', ... ,  'meanBD8'], 'OC': ['meanOC1',  'meanOC2', ... ,  'meanOC8']}\n",
    "# column_names = {prop: [f'mean{prop}{depth}' for depth in ['1', '2', '3', '4', '5', '6', '7', '8']] for prop in ['CLAY', 'SAND', 'OC']}\n",
    "\n",
    "# # Define intervals, This is default gsde depth interval for 8 layers \n",
    "# gsde_intervals = [(0, 0.045), (0.045, 0.091), (0.091, 0.166), (0.166, 0.289), (0.289, 0.493), (0.493, 0.829), (0.829, 1.383), (1.383, 2.296)]\n",
    "# # This is input and defines the MESH soil depth discritizaiton, in the following case 4 layers soil\n",
    "# mesh_intervals = [(0, 0.1), (0.1, 0.35), (0.35, 1.2), (1.2, 4.1)]\n",
    "\n",
    "# # Initialize GSDESoil and process the data\n",
    "# gsde = GSDESoil(directory, input_basin, output_shapefile)\n",
    "# gsde.load_data(file_names)\n",
    "# gsde.clean_column_names(searchname, replacename)\n",
    "# gsde.fill_and_clean_data()\n",
    "# gsde.calculate_weights(gsde_intervals, mesh_intervals)\n",
    "# gsde.calculate_mesh_values(column_names)\n"
   ]
  }
 ],
 "metadata": {
  "kernelspec": {
   "display_name": "scienv",
   "language": "python",
   "name": "scienv"
  },
  "language_info": {
   "codemirror_mode": {
    "name": "ipython",
    "version": 3
   },
   "file_extension": ".py",
   "mimetype": "text/x-python",
   "name": "python",
   "nbconvert_exporter": "python",
   "pygments_lexer": "ipython3",
   "version": "3.10.2"
  }
 },
 "nbformat": 4,
 "nbformat_minor": 5
}
