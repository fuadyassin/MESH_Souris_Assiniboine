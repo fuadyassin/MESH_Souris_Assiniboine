{
 "cells": [
  {
   "cell_type": "markdown",
   "id": "c3b6f999-ca13-4d86-a2e7-1b113b3a1580",
   "metadata": {},
   "source": [
    "# Basic preparations"
   ]
  },
  {
   "cell_type": "markdown",
   "id": "a95992b8-be42-4339-bc9f-06209234da9b",
   "metadata": {},
   "source": [
    "In this Notebook, the geospatial fabric for the \"Nelson Churchill River Basin\" gauge is extracted from the `MERIT-Basins` dataset."
   ]
  },
  {
   "cell_type": "markdown",
   "id": "ebcd0062-78ba-43ec-b06d-bcf4fcd2fed3",
   "metadata": {},
   "source": [
    "If you are using Graham HPC, and have access to Clark's Research Group allocation (`rrg-mclark`), you may find `MERIT-Basins` layers under the following path:</br>\n",
    "`/project/rrg-mclark/data/geospatial-data/MERIT-Basins/`"
   ]
  },
  {
   "cell_type": "markdown",
   "id": "547f6178-7d12-436b-bba4-d7b86fee3cd2",
   "metadata": {},
   "source": [
    "If you are using Graham HPC, and have access to Global Water Futures Observatories allocation (`rpp-kshook`), you may find `MERIT-Basins` layers under the following path:</br>\n",
    "`/project/rpp-kshook/Climate_Forcing_Data/geospatial-data/MERIT-Basins`"
   ]
  },
  {
   "cell_type": "markdown",
   "id": "62251bcc-3a44-422e-b90d-4af375051974",
   "metadata": {},
   "source": [
    "The version used is `MERIT_Hydro_v07_Basins_v01_bugfix1` which is a directory under the root directory of the dataset."
   ]
  },
  {
   "cell_type": "markdown",
   "id": "dd3e2ec2-5b46-4d26-a79d-ba594fa69e7f",
   "metadata": {},
   "source": [
    "Let's get started with our workflow and import necessary Python libraries:"
   ]
  },
  {
   "cell_type": "code",
   "execution_count": null,
   "id": "3bb52015-8bd0-40ac-8e37-67997cdbe6f7",
   "metadata": {},
   "outputs": [],
   "source": [
    "!yes | pip uninstall hydrant -y"
   ]
  },
  {
   "cell_type": "code",
   "execution_count": null,
   "id": "1c6d1bd8-b258-4d64-86b1-335907f5bd9d",
   "metadata": {},
   "outputs": [],
   "source": [
    "!pip install git+https://github.com/kasra-keshavarz/hydrant.git"
   ]
  },
  {
   "cell_type": "code",
   "execution_count": null,
   "id": "593c7487-9197-48c0-8fb2-c06bd1062609",
   "metadata": {},
   "outputs": [],
   "source": [
    "#import hydrant\n",
    "#print(hydrant.__version__)"
   ]
  },
  {
   "cell_type": "code",
   "execution_count": null,
   "id": "2d7a1237-c037-4eea-9c47-ae35c6f4187d",
   "metadata": {},
   "outputs": [],
   "source": [
    "import geopandas as gpd # version 0.14.0\n",
    "import pandas as pd # version 1.4.0\n",
    "import numpy as np # version 1.22.2\n",
    "import matplotlib.pyplot as plt # version 3.5.1\n",
    "from shapely.geometry import Point # version 2.0.1\n",
    "import hydrant.topology.geom as gm # version 0.1.0-dev1\n",
    "import subprocess # built-in Python 3.10.2\n",
    "import os # built-in Python 3.10.2\n",
    "import glob # built-in Python 3.10.2"
   ]
  },
  {
   "cell_type": "markdown",
   "id": "8524346b-893d-4133-92b5-55f450d472dd",
   "metadata": {},
   "source": [
    "`Hydrant` is important in this Notebook. We are only using the `topology.geom`etry module."
   ]
  },
  {
   "cell_type": "markdown",
   "id": "9e435c67-cb00-4058-b83d-ec1528d1ba9b",
   "metadata": {},
   "source": [
    "Path definitions (system dependant - modify accordingly):"
   ]
  },
  {
   "cell_type": "code",
   "execution_count": null,
   "id": "574c276b-ded3-4baa-8c24-bbed210a20e5",
   "metadata": {
    "tags": []
   },
   "outputs": [],
   "source": [
    "# geofabric paths\n",
    "merit_basins_root_path = '/project/6008034/Climate_Forcing_Data/geospatial-data/MERIT-Basins/MERIT_Hydro_v07_Basins_v01_bugfix1'\n",
    "merit_basins_geom_path = os.path.join(merit_basins_root_path, 'pfaf_level_02')\n",
    "merit_basins_nca_path = os.path.join(merit_basins_root_path, 'coastal_hillslopes')\n",
    "# output paths\n",
    "output_path = '/home/fuaday/github-repos/Souris_Assiniboine_MAF/1-geofabric/SrsAboine-geofabric/'\n",
    "#bs_path = '/scratch/fuaday/ncrb-models/NCRB_shapefiles/NCRB_SubbasinsDissolved.shp'\n",
    "nctr_test = '/scratch/fuaday/ncrb-models/NCRB_shapefiles/non.shp' #ncontr_test.shp\n",
    "nctr_testout = '/scratch/fuaday/ncrb-models/NCRB_shapefiles/ncontr_test.shp' "
   ]
  },
  {
   "cell_type": "code",
   "execution_count": null,
   "id": "550bf8ac-3ad2-4bc6-91fa-890d7ca5da2c",
   "metadata": {},
   "outputs": [],
   "source": [
    "#ncrb = pd.concat([gpd.read_file(f).to_crs(epsg=4326) for f in glob.glob(bs_path)])"
   ]
  },
  {
   "cell_type": "code",
   "execution_count": null,
   "id": "b84d704d-cc59-416d-a1da-13b278784c08",
   "metadata": {},
   "outputs": [],
   "source": [
    "files = glob.glob(nctr_test)\n",
    "\n",
    "# Load files, set CRS, and concatenate\n",
    "gdfs = []\n",
    "for f in files:\n",
    "    gdf = gpd.read_file(f)\n",
    "    if gdf.crs is None:\n",
    "        gdf.set_crs(epsg=4326, inplace=True)\n",
    "    gdfs.append(gdf.to_crs(epsg=4326))\n",
    "ncrb_nca = pd.concat(gdfs)"
   ]
  },
  {
   "cell_type": "markdown",
   "id": "62175c5e-ea00-4dee-a75a-85d1fd505ed5",
   "metadata": {},
   "source": [
    "# Reading `MERIT-Basins` Geospatial Fabric Dataset"
   ]
  },
  {
   "cell_type": "markdown",
   "id": "b15b0634-e6eb-42bf-a40d-3e50ad522083",
   "metadata": {},
   "source": [
    "Upon **visual** inspection (you may use `QGIS` or similar programs), layer #71 has been identified to include necessary sub-basins for ncrb"
   ]
  },
  {
   "cell_type": "markdown",
   "id": "d09e83da-bc0d-417a-8675-f40828bb5329",
   "metadata": {},
   "source": [
    "As you may see in the cell below, we are using Python `list`s to enable reading multiple layers at once. There are cases where a basin of interest is shared between multiple `pfaf` layers."
   ]
  },
  {
   "cell_type": "markdown",
   "id": "3a58e0a6-f839-4414-9e63-5a5ab0bcfa45",
   "metadata": {},
   "source": [
    "For now, let's read the files, one by one:"
   ]
  },
  {
   "cell_type": "code",
   "execution_count": null,
   "id": "4f745271-1067-4d37-915c-87c628a90265",
   "metadata": {
    "tags": []
   },
   "outputs": [],
   "source": [
    "# file names\n",
    "# catchments (subbasin)\n",
    "cat_files = [\n",
    "    'cat_pfaf_71_MERIT_Hydro_v07_Basins_v01_bugfix1.shp',\n",
    "]\n",
    "# rivers (river segments)\n",
    "riv_files = [\n",
    "    'riv_pfaf_71_MERIT_Hydro_v07_Basins_v01_bugfix1.shp',\n",
    "]\n",
    "# non-contributing catchments (those without any river segments defined for them)\n",
    "nca_files = [\n",
    "    'hillslope_71_clean.shp',\n",
    "]\n",
    "\n",
    "# reading in data in an iterative manner\n",
    "cat = pd.concat([gpd.read_file(os.path.join(merit_basins_geom_path, f)) for f in cat_files])\n",
    "riv = pd.concat([gpd.read_file(os.path.join(merit_basins_geom_path, f)) for f in riv_files])\n",
    "nca = pd.concat([gpd.read_file(os.path.join(merit_basins_nca_path, f)) for f in nca_files])"
   ]
  },
  {
   "cell_type": "markdown",
   "id": "ff50bb1c-f495-4b4d-850b-1ccbac89a084",
   "metadata": {},
   "source": [
    "Since `MERIT-Basins` layers do not come with correct Coordinate Reference System (CRS) information, we need to specify this manually. The `EPSG` code for the `MERIT-Basins` layer is `4326`. Please refer to the following for more information: https://en.wikipedia.org/wiki/EPSG_Geodetic_Parameter_Dataset"
   ]
  },
  {
   "cell_type": "code",
   "execution_count": null,
   "id": "0ef0b85b-a710-42c3-8a6d-e23a16ae0b28",
   "metadata": {},
   "outputs": [],
   "source": [
    "# specifying epsg:4326 for all the MERIT-Basins layers\n",
    "cat.set_crs(epsg=4326, inplace=True)\n",
    "nca.set_crs(epsg=4326, inplace=True)\n",
    "riv.set_crs(epsg=4326, inplace=True)\n",
    "\n",
    "# # Show the EPSG of all geospatial layers\n",
    "# print(f'`cat` CRS: {cat.crs}')\n",
    "# print(f'`riv` CRS: {riv.crs}')\n",
    "# print(f'`nca` CRS: {nca.crs}')"
   ]
  },
  {
   "cell_type": "code",
   "execution_count": null,
   "id": "3b5f671a-459b-4904-8f5a-cabea3f7fc73",
   "metadata": {},
   "outputs": [],
   "source": [
    "# # Printing the sizes\n",
    "# print(\"Size of catchments (cat):\", cat.shape)\n",
    "# print(\"Size of rivers (riv):\", riv.shape)\n",
    "# print(\"Size of non-contributing areas (nca):\", nca.shape)"
   ]
  },
  {
   "cell_type": "code",
   "execution_count": null,
   "id": "dff6a889-e215-4111-b65f-8911824cd253",
   "metadata": {},
   "outputs": [],
   "source": [
    "# # Display the headers of each DataFrame\n",
    "# print(\"Header for Catchments (cat):\")\n",
    "# print(cat.head())\n",
    "\n",
    "# print(\"\\nHeader for Rivers (riv):\")\n",
    "# print(riv.head())\n",
    "\n",
    "# print(\"\\nHeader for Non-Contributing Areas (nca):\")\n",
    "# print(nca.head())"
   ]
  },
  {
   "cell_type": "markdown",
   "id": "44d7704c-bf2e-4b71-9d36-5613d4b3a25b",
   "metadata": {},
   "source": [
    "# Preparing `cat`, `riv`, and `nca` objects for `NCRB`"
   ]
  },
  {
   "cell_type": "markdown",
   "id": "b7d09b25-eb34-48ac-bc49-eeb92e475b52",
   "metadata": {},
   "source": [
    "## Preparing `MERIT-Basins` Layers"
   ]
  },
  {
   "cell_type": "markdown",
   "id": "b048cc8d-5c2f-4274-8201-861c7b311d78",
   "metadata": {},
   "source": [
    "Before subsetting the entire layer #71 of the `MERIT-Basins` dataset, we have to assure the layers are ready to be further processed by the `Hydrant` package. Fortunately, `Hydrant` provides necessary functionalities to work with this specific geospatial fabric (applicable to any geospatial fabric in reality). "
   ]
  },
  {
   "cell_type": "markdown",
   "id": "d03fd658-5f89-462b-be7c-7af5c39c6d07",
   "metadata": {},
   "source": [
    "In doing so, Hydrant's `geom` module provides the `prepare_cat(...)` function to prepare the `MERIT-Basins` geosptial fabric's sub-basins (or catchments) for the next post-processing steps. Please note that since the non-contributing areas (`nca`) are technically considered sub-basins, they are taken care of using this functionality of `Hydrant`:"
   ]
  },
  {
   "cell_type": "code",
   "execution_count": null,
   "id": "afb82305-0e1d-4f34-8ddc-4b567ea68613",
   "metadata": {},
   "outputs": [],
   "source": [
    "# Hydrant's `geom` module provides the `prepare_cat`\n",
    "# function to prepare the `MERIT-Basins` geosptial\n",
    "# fabric for next post-processing steps\n",
    "\n",
    "catchments = gm.prepare_cat(\n",
    "    cat=cat, # \n",
    "    cat_col_id='COMID'\n",
    ")\n",
    "\n",
    "# catchments = gm.prepare_cat(\n",
    "#     cat=cat, # \n",
    "#     cat_col_id='COMID',\n",
    "#     cst=nca,\n",
    "#     cst_col_mapper={'FID':'COMID'},\n",
    "#     cst_col_id='COMID'\n",
    "# )\n",
    "# You may see the \"docstring\" of the `gm.prepare_cat`\n",
    "# function by running:\n",
    "# >>> gm.prepare_cat?\n",
    "# in a separate Jupyter cell (without the >>>), or by\n",
    "# running simply:\n",
    "# >>> print(gm.prepare_cat.__doc__)"
   ]
  },
  {
   "cell_type": "code",
   "execution_count": null,
   "id": "d8b9d374-6e79-4ddc-8642-da1505d4a5a0",
   "metadata": {},
   "outputs": [],
   "source": [
    "# catchments = gm.prepare_cat(\n",
    "#     cat=cat, # \n",
    "#     cat_col_id='COMID',\n",
    "#     cst=nca,\n",
    "#     cst_col_mapper={'FID':'COMID'},\n",
    "#     cst_col_id='COMID'\n",
    "# )"
   ]
  },
  {
   "cell_type": "code",
   "execution_count": null,
   "id": "69624777-5bbf-4716-b15e-7d69fc37386d",
   "metadata": {},
   "outputs": [],
   "source": [
    "# added from smm example\n",
    "\n",
    "# first, creating the directory\n",
    "try:\n",
    "    os.makedirs(output_path)\n",
    "except FileExistsError:\n",
    "    pass\n",
    "catchments.to_file(os.path.join(output_path, 'SourisAsinboine_catchmentsTest.shp'))"
   ]
  },
  {
   "cell_type": "markdown",
   "id": "0204da32-fb52-497a-9e38-0ce520d0a32f",
   "metadata": {},
   "source": [
    "Similarly, the `geom` module provides the `prepare_riv(...)` function to prepare the `MERIT-Basins` geospatial fabric's river segments for the next post-processing steps:"
   ]
  },
  {
   "cell_type": "code",
   "execution_count": null,
   "id": "e471525f-1c5c-452e-81b2-552e5fbf4bf1",
   "metadata": {
    "tags": []
   },
   "outputs": [],
   "source": [
    "# Similarly, the `geom` module provides the\n",
    "# `prepare_riv` function to prepare the `MERIT-Basins`\n",
    "# geospatial fabric's river segments for the next\n",
    "# post-processing steps:\n",
    "\n",
    "rivers = gm.prepare_riv(\n",
    "    riv=riv,\n",
    "    riv_cols={\n",
    "        'id':'COMID',\n",
    "        'next_id':'NextDownID',\n",
    "        'slope':'slope',\n",
    "        'length':'lengthkm',\n",
    "        'length_direct':'lengthdir'\n",
    "    },\n",
    "    cat=catchments,\n",
    "    cat_cols={\n",
    "        'id':'COMID',\n",
    "        'hillslope':'hillslope',\n",
    "        'geom':'geometry'\n",
    "    }\n",
    ")\n",
    "\n",
    "\n",
    "# You may see the \"docstring\" of the `gm.prepare_riv`\n",
    "# function by running:\n",
    "# >>> gm.prepare_riv?\n",
    "# in a separate Jupyter cell (without the >>>), or by\n",
    "# running simply:\n",
    "# >>> print(gm.prepare_riv.__doc__)\n",
    "\n",
    "# first, creating the directory\n",
    "try:\n",
    "    os.makedirs(output_path)\n",
    "except FileExistsError:\n",
    "    pass\n",
    "rivers.to_file(os.path.join(output_path, 'SourisAsinboine_RiverTest.shp'))"
   ]
  },
  {
   "cell_type": "markdown",
   "id": "cb80b0f2-9c8d-4564-9c9c-68bc21ac6676",
   "metadata": {},
   "source": [
    "In Python, you may always access the \"docstring\" documentations for the functions and classes by running:\n",
    "```python\n",
    ">>> print(func.__doc__)\n",
    "```\n",
    "Or, if you are working in the Jupyter environment, you may simply run the following in a separate Jupyter cell:\n",
    "```ipython\n",
    "[ln1] func?\n",
    "```\n",
    "If you are interested in reading up on the functionality of each function used above, use the mentioned methods to print the \"docstrings\"."
   ]
  },
  {
   "cell_type": "code",
   "execution_count": null,
   "id": "25bb49ba-7669-4a3e-a0aa-3b14b2d9fbc7",
   "metadata": {},
   "outputs": [],
   "source": []
  },
  {
   "cell_type": "markdown",
   "id": "00006a04-7669-4d6f-b14e-da3597708001",
   "metadata": {},
   "source": [
    "Therefore, if you would like to read up on the `gm.prepare_cat(...)` or `gm.prepare_riv(...)` functionality, simply uncomment and execute the following cell:"
   ]
  },
  {
   "cell_type": "code",
   "execution_count": null,
   "id": "00d250e0-c0d5-4d0b-8068-a1ea9d443327",
   "metadata": {},
   "outputs": [],
   "source": [
    "#gm.prepare_cat?"
   ]
  },
  {
   "cell_type": "code",
   "execution_count": null,
   "id": "ba4c646a-7843-449a-9907-81e0243e18e4",
   "metadata": {},
   "outputs": [],
   "source": [
    "# latitude and longitude values for the\n",
    "# `Great Lakes River Basin at Quebec City` Hydrometric gauge\n",
    "latitude = 49.88\n",
    "longitude = -97.155\n",
    "\n",
    "# create a Point object\n",
    "point = Point(longitude, latitude)\n",
    "\n",
    "# show the `point`\n",
    "point\n"
   ]
  },
  {
   "cell_type": "code",
   "execution_count": null,
   "id": "c0e910d9-e760-44fd-aeac-5d04fa60dac4",
   "metadata": {},
   "outputs": [],
   "source": [
    "print(point)\n",
    "catchments[catchments.intersects(point)]"
   ]
  },
  {
   "cell_type": "code",
   "execution_count": null,
   "id": "a10136f5-6649-4884-80bd-b10639c1af79",
   "metadata": {},
   "outputs": [],
   "source": [
    "# `glrb` stands for `Great Lakes River Basin at Quebec City `:\n",
    "sras_catchments, sras_rivers = gm.intersect_topology(\n",
    "    cat=catchments,\n",
    "    cat_cols={\n",
    "        'id':'COMID'\n",
    "    },\n",
    "    riv=rivers,\n",
    "    riv_cols={\n",
    "        'id':'COMID',\n",
    "        'next_id':'NextDownID'\n",
    "    },\n",
    "    outlet_id=[71039300,71029567,71028920,71027667,71029525,71029760,71029235,71027231,71029705])"
   ]
  },
  {
   "cell_type": "markdown",
   "id": "629400c3-402e-49fa-ac3d-13fac7956e40",
   "metadata": {},
   "source": [
    "Now, let's plot what have extracted from the larger `MERIT-Basins` geospatial fabric:"
   ]
  },
  {
   "cell_type": "code",
   "execution_count": null,
   "id": "6c9f3610-f994-4795-91ef-84848c2442a5",
   "metadata": {
    "tags": []
   },
   "outputs": [],
   "source": [
    "fig, ax = plt.subplots(\n",
    "    nrows=1,\n",
    "    ncols=1,\n",
    "    figsize=(20, 12)\n",
    ")\n",
    "\n",
    "# Assuming 'ncrb_catchments' and 'ncrb_rivers' are GeoDataFrames and 'point' is a geometry point for the gauge location\n",
    "\n",
    "# sub-basins\n",
    "sras_catchments.plot(ax=ax, color='gray', edgecolor='black', alpha=0.8, linewidth=0.3, zorder=1)  # Adjust `linewidth` as needed\n",
    "# river segments\n",
    "sras_rivers.plot(ax=ax, color='blue', alpha=1, linewidth=0.3, zorder=2)  # Adjust `linewidth` as needed for rivers\n",
    "\n",
    "# gauge location\n",
    "# Assuming 'point' is defined somewhere above as a geometry point\n",
    "# ax.scatter(point.x, point.y, color='red', alpha=0.8, s=100, zorder=3)  # Use `s` for size in scatter plot, adjust as needed\n",
    "\n",
    "plt.show()\n"
   ]
  },
  {
   "cell_type": "markdown",
   "id": "78a19990-cd78-44d1-94fc-02b70bd830c7",
   "metadata": {},
   "source": [
    "# Saving Extracted Geospatial Fabric upstream of Bow River at Banff Hydrometric Station"
   ]
  },
  {
   "cell_type": "code",
   "execution_count": null,
   "id": "31015b40-ea8a-49f2-87b6-1eeaed08b720",
   "metadata": {},
   "outputs": [],
   "source": [
    "# saving the results into the `output_path` directory\n",
    "\n",
    "# first, creating the directory\n",
    "try:\n",
    "    os.makedirs(output_path)\n",
    "except FileExistsError:\n",
    "    pass\n",
    "\n",
    "# then, saving the data\n",
    "sras_catchments.to_file(os.path.join(output_path, 'sras_subbasins_MAF_noAgg.shp'))\n",
    "sras_rivers.to_file(os.path.join(output_path, 'sras_rivers_MAF_noAgg.shp'))"
   ]
  },
  {
   "cell_type": "code",
   "execution_count": null,
   "id": "676b0879-b021-4f06-b710-41b40209bb74",
   "metadata": {},
   "outputs": [],
   "source": [
    "import subprocess\n",
    "import pandas as pd\n",
    "import os\n",
    "\n",
    "# Define paths and parameters\n",
    "input_basin_path = \"/home/fuaday/github-repos/Souris_Assiniboine_MAF/1-geofabric/SrsAboine-geofabric/sras_subbasins_MAF_noAgg.shp\"\n",
    "input_river_path = \"/home/fuaday/github-repos/Souris_Assiniboine_MAF/1-geofabric/SrsAboine-geofabric/sras_rivers_MAF_noAgg.shp\"\n",
    "min_subarea = 50   #50, 100, 150\n",
    "min_slope = 0.0000001\n",
    "min_length = 1.0\n",
    "output_basin_path = \"/home/fuaday/github-repos/Souris_Assiniboine_MAF/1-geofabric/SrsAboine-geofabric/sras_subbasins_MAF_Agg.shp\"\n",
    "output_river_path = \"/home/fuaday/github-repos/Souris_Assiniboine_MAF/1-geofabric/SrsAboine-geofabric/sras_rivers_MAF_Agg.shp\"\n",
    "\n",
    "# Full path to Rscript executable\n",
    "\n",
    "#rscript_path = \"/cvmfs/soft.computecanada.ca/easybuild/software/2023/x86-64-v3/Compiler/gcccore/r/4.3.1/bin/Rscript\"\n",
    "rscript_path = \"/cvmfs/soft.computecanada.ca/easybuild/software/2020/avx2/Core/r/4.3.1/bin/Rscript\"\n",
    "\n",
    "# Run the R script with arguments\n",
    "result = subprocess.run([\n",
    "    rscript_path,\n",
    "    \"basin_aggregation.R\",\n",
    "    input_basin_path,\n",
    "    input_river_path,\n",
    "    str(min_subarea),\n",
    "    str(min_slope),\n",
    "    str(min_length),\n",
    "    output_basin_path,\n",
    "    output_river_path\n",
    "], capture_output=True, text=True)\n",
    "\n",
    "# Check if the script executed successfully\n",
    "if result.returncode != 0:\n",
    "    print(\"Error in R script execution\")\n",
    "    print(result.stderr)\n",
    "else:\n",
    "    print(\"R script executed successfully\")\n",
    "    # You can load and process the RDS files if needed\n",
    "    # output_basin = pd.read_rds(output_basin_path)  # You might need an appropriate RDS reader in Python\n",
    "    # output_river = pd.read_rds(output_river_path)  # Similarly for the river data"
   ]
  },
  {
   "cell_type": "code",
   "execution_count": 1,
   "id": "d35531b8-30ef-452f-becb-3348e722230b",
   "metadata": {},
   "outputs": [],
   "source": [
    "from MESHpyPreProcessing.gdf_edit import flag_ncaalg_from_files"
   ]
  },
  {
   "cell_type": "code",
   "execution_count": 10,
   "id": "e1c570ee-30f2-468a-91b4-889198df041a",
   "metadata": {},
   "outputs": [],
   "source": [
    "input_basin_path = \"/home/fuaday/github-repos/Souris_Assiniboine_MAF/1-geofabric/SrsAboine-geofabric/sras_subbasins_MAF_Agg.shp\"\n",
    "nctr_test = '/scratch/fuaday/ncrb-models/NCRB_shapefiles/non.shp'\n",
    "#output_river_path = \"/home/fuaday/github-repos/Souris_Assiniboine_MAF/1-geofabric/SrsAboine-geofabric/sras_subbasins_MAF_Agg2.shp\"\n",
    "output_river_path = \"/home/fuaday/scratch/sras-agg-model/geofabric-outputs/sras_subbasins_MAF_Agg2.shp\""
   ]
  },
  {
   "cell_type": "code",
   "execution_count": 11,
   "id": "5a8239db-37fb-4304-ad01-34c00a1528ca",
   "metadata": {},
   "outputs": [
    {
     "name": "stdout",
     "output_type": "stream",
     "text": [
      "        COMID    unitarea  NextDownID      uparea  \\\n",
      "0  71021939.0   76.913653  71027254.0  552.472643   \n",
      "1  71022301.0  143.486374  71027718.0  143.486374   \n",
      "2  71022434.0   59.981617  71027895.0   59.981617   \n",
      "3  71022862.0   90.478867  71027718.0  612.452783   \n",
      "4  71023030.0  114.109551  71022862.0  521.973916   \n",
      "\n",
      "                                            geometry  ncontr  \n",
      "0  MULTIPOLYGON (((-104.63208 51.98708, -104.6295...       2  \n",
      "1  POLYGON ((-105.38458 51.96875, -105.38458 51.9...       2  \n",
      "2  POLYGON ((-102.86208 52.04042, -102.85875 52.0...       2  \n",
      "3  POLYGON ((-105.59958 52.04125, -105.59875 52.0...       2  \n",
      "4  MULTIPOLYGON (((-105.48125 52.11458, -105.4820...       2  \n"
     ]
    },
    {
     "data": {
      "text/plain": [
       "<AxesSubplot:>"
      ]
     },
     "execution_count": 11,
     "metadata": {},
     "output_type": "execute_result"
    },
    {
     "data": {
      "image/png": "[encoded data removed]",
      "text/plain": [
       "<Figure size 640x480 with 2 Axes>"
      ]
     },
     "metadata": {},
     "output_type": "display_data"
    }
   ],
   "source": [
    "# Call the flag_ncaalg_from_files function\n",
    "result_gdf = flag_ncaalg_from_files(input_basin_path, nctr_test, threshold=0.1, output_path=output_river_path)\n",
    "\n",
    "# Display the results\n",
    "print(result_gdf.head())\n",
    "result_gdf.plot(column='ncontr', legend=True)\n"
   ]
  },
  {
   "cell_type": "markdown",
   "id": "82e05a57-93f5-4ab7-a75e-a705aea51c1b",
   "metadata": {},
   "source": [
    "___"
   ]
  }
 ],
 "metadata": {
  "kernelspec": {
   "display_name": "scienv",
   "language": "python",
   "name": "scienv"
  },
  "language_info": {
   "codemirror_mode": {
    "name": "ipython",
    "version": 3
   },
   "file_extension": ".py",
   "mimetype": "text/x-python",
   "name": "python",
   "nbconvert_exporter": "python",
   "pygments_lexer": "ipython3",
   "version": "3.10.2"
  },
  "toc-autonumbering": true,
  "toc-showcode": false
 },
 "nbformat": 4,
 "nbformat_minor": 5
}
